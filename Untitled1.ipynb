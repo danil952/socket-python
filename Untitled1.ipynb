{
 "cells": [
  {
   "cell_type": "code",
   "execution_count": 1,
   "metadata": {},
   "outputs": [],
   "source": [
    "import random\n",
    "import math\n",
    "#x-число, y-степень, m-модуль\n",
    "def fast_pow(x, y, m):\n",
    "    if y == 0:\n",
    "        return 1\n",
    "    if y == -1:\n",
    "        return 1. / x\n",
    "    p = fast_pow(x, y // 2, m)\n",
    "    p *= p\n",
    "    p = p % m\n",
    "    if y % 2:\n",
    "        p *= x\n",
    "        p = p % m\n",
    "    return p\n",
    "#n-число для теста,k-кол во раундов(по умолчанию k=0)\n",
    "def is_Prime(n,k):\n",
    "    if k==0:\n",
    "        k=int(math.log(n))\n",
    "    if n==0 or n==1 or n==4 or n==6 or n==8 or n==9:\n",
    "        return False\n",
    "    if n==2 or n==3 or n==5 or n==7:\n",
    "        return True\n",
    "    s = 0\n",
    "    d = n-1\n",
    "    while d%2==0:\n",
    "        d>>=1\n",
    "        s+=1\n",
    "    assert(2**s * d == n-1)\n",
    "    def trial_composite(a):\n",
    "        if fast_pow(a, d, n) == 1:\n",
    "            return False\n",
    "        for i in range(s):\n",
    "            if fast_pow(a, 2**i * d, n) == n-1:\n",
    "                return False\n",
    "        return True  \n",
    "    for i in range(k):#number of trials \n",
    "        a = random.randrange(2, n-1)\n",
    "        if trial_composite(a):\n",
    "            return False\n",
    "    return True "
   ]
  },
  {
   "cell_type": "code",
   "execution_count": null,
   "metadata": {},
   "outputs": [],
   "source": []
  }
 ],
 "metadata": {
  "kernelspec": {
   "display_name": "Python 3",
   "language": "python",
   "name": "python3"
  },
  "language_info": {
   "codemirror_mode": {
    "name": "ipython",
    "version": 3
   },
   "file_extension": ".py",
   "mimetype": "text/x-python",
   "name": "python",
   "nbconvert_exporter": "python",
   "pygments_lexer": "ipython3",
   "version": "3.7.0"
  }
 },
 "nbformat": 4,
 "nbformat_minor": 2
}
